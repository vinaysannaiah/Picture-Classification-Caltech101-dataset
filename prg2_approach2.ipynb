################################# Import all the Libraries #########################################################

from sklearn.preprocessing import LabelEncoder # import LabelEncoder to encode labels with value between 0 and num_classes-1
from sklearn.preprocessing import MinMaxScaler # import MinMaxScaler to Transform features by scaling each feature to a given range
import numpy as np 
import mahotas
import cv2 # import open CV to read and convert the image from color to grayscale
import os # import os to read the files from a directory
import h5py # import h5py to create a data file 

####################################################################################################################

#################################### Initialize the required Variables ############################################

# fixed-sizes for image
fixed_size = (500, 500) # to change the size of all the images to 500x500 px. 

# path to training data
train_path = " " ''' GIVE THE DIRECTORY PATH HERE '''

# no.of.trees for Random Forests
num_trees = 100 

# bins for histogram
bins = 8

# train_test_split size
test_size = 0.10 # Train test split Train: 90% Test: 10%

# seed for reproducing same results
seed = 9


###################### Functions ##################################

# feature extraction techniques: Hu Moments
def hu_feats(image):

    image = cv2.cvtColor(image, cv2.COLOR_BGR2GRAY) # convert the image from BGR to gray for easy processing
    feature = cv2.HuMoments(cv2.moments(image)).flatten() # get the Hu moments using the openCV library

    return feature

# feature extraction techniques: Haralick Texture features

def haralick_feats(image):

    image = cv2.cvtColor(image, cv2.COLOR_BGR2GRAY) # convert the image to grayscale
    features = mahotas.features.haralick(image).mean(axis=0) # compute the haralick texture feature vector

    return features

# feature extraction techniques: HOG (Histogram of Oriented Gradients)

def fd_hog(image):
    
    image = cv2.cvtColor(image, cv2.COLOR_BGR2GRAY)

    features, hog_image = hog(image, orientations=8, pixels_per_cell=(16, 16),
                    cells_per_block=(1, 1), visualise=True)
    
    return features
